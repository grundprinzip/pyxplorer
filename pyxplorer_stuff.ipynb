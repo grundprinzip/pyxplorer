{
 "metadata": {
  "name": "",
  "signature": "sha256:4af9d607093f101c8ac25f71547d2436522c654d4030e3fb1e864c290f0cbd17"
 },
 "nbformat": 3,
 "nbformat_minor": 0,
 "worksheets": [
  {
   "cells": [
    {
     "cell_type": "code",
     "collapsed": false,
     "input": [
      "%load_ext autoreload\n",
      "%autoreload 2"
     ],
     "language": "python",
     "metadata": {},
     "outputs": [
      {
       "output_type": "stream",
       "stream": "stdout",
       "text": [
        "The autoreload extension is already loaded. To reload it, use:\n",
        "  %reload_ext autoreload\n"
       ]
      }
     ],
     "prompt_number": 86
    },
    {
     "cell_type": "markdown",
     "metadata": {},
     "source": [
      "#PyExplorer - interactive data set exploration\n",
      "\n",
      "The goal of `pyexplorer` is to provide simple means to explore relational data sets stored in different locations. Data profiling, in the sense of this library, allows the user to get a better understanding about the distinct values, counts and distribution of data in a given table."
     ]
    },
    {
     "cell_type": "markdown",
     "metadata": {},
     "source": [
      "## Example using Impala\n",
      "\n",
      "Basically `pyexplorer` works with all DBAPI like interfaces, but to show the advantages of running a high-performance data analysis on large amounts of data we will use Impala to store our data."
     ]
    },
    {
     "cell_type": "code",
     "collapsed": false,
     "input": [
      "from impala.dbapi import connect\n",
      "conn = connect(host='diufpc57', port=21050)"
     ],
     "language": "python",
     "metadata": {},
     "outputs": [],
     "prompt_number": 87
    },
    {
     "cell_type": "markdown",
     "metadata": {},
     "source": [
      "Based on this connection, we can now instantiate a new explorer object."
     ]
    },
    {
     "cell_type": "code",
     "collapsed": false,
     "input": [
      "import pyxplorer.manager as m\n",
      "data = m.Database(\"tpcc2\", conn)\n",
      "data"
     ],
     "language": "python",
     "metadata": {},
     "outputs": [
      {
       "html": [
        "<table><tr><th>Name</th><th>Size</th></tr><tr><td>customerp</td><td>3000000</td></tr><tr><td>districtp</td><td>1000</td></tr><tr><td>historyp</td><td>3000000</td></tr><tr><td>itemp</td><td>100000</td></tr><tr><td>new_orderp</td><td>900000</td></tr><tr><td>oorderp</td><td>3000000</td></tr><tr><td>order_linep</td><td>29997015</td></tr><tr><td>results</td><td>313845</td></tr><tr><td>stockp</td><td>10000000</td></tr><tr><td>warehousep</td><td>100</td></tr></table><p>Rows: 11 / Columns: 2</p>"
       ],
       "metadata": {},
       "output_type": "pyout",
       "prompt_number": 88,
       "text": [
        "<pyxplorer.manager.Database instance at 0x112ec2638>"
       ]
      }
     ],
     "prompt_number": 88
    },
    {
     "cell_type": "code",
     "collapsed": false,
     "input": [
      "len(data)"
     ],
     "language": "python",
     "metadata": {},
     "outputs": [
      {
       "metadata": {},
       "output_type": "pyout",
       "prompt_number": 89,
       "text": [
        "11"
       ]
      }
     ],
     "prompt_number": 89
    },
    {
     "cell_type": "markdown",
     "metadata": {},
     "source": [
      "Get the total number of columns:"
     ]
    },
    {
     "cell_type": "code",
     "collapsed": false,
     "input": [
      "sum([len(x.columns()) for x in data.tables()])"
     ],
     "language": "python",
     "metadata": {},
     "outputs": [
      {
       "metadata": {},
       "output_type": "pyout",
       "prompt_number": 90,
       "text": [
        "98"
       ]
      }
     ],
     "prompt_number": 90
    },
    {
     "cell_type": "markdown",
     "metadata": {},
     "source": [
      "Now, we can drill down to a single table and investigate further. Let's look a the `order_line` table."
     ]
    },
    {
     "cell_type": "code",
     "collapsed": false,
     "input": [
      "tab = data['order_linep']\n",
      "tab"
     ],
     "language": "python",
     "metadata": {},
     "outputs": [
      {
       "metadata": {},
       "output_type": "pyout",
       "prompt_number": 91,
       "text": [
        "<Table: \"tpcc2.order_linep\">"
       ]
      }
     ],
     "prompt_number": 91
    },
    {
     "cell_type": "markdown",
     "metadata": {},
     "source": [
      "Let's start by doing some basic inspection of the table, like extracting the number of rows and the number of columns"
     ]
    },
    {
     "cell_type": "code",
     "collapsed": false,
     "input": [
      "tab.size()"
     ],
     "language": "python",
     "metadata": {},
     "outputs": [
      {
       "metadata": {},
       "output_type": "pyout",
       "prompt_number": 92,
       "text": [
        "29997015"
       ]
      }
     ],
     "prompt_number": 92
    },
    {
     "cell_type": "code",
     "collapsed": false,
     "input": [
      "len(tab.columns())"
     ],
     "language": "python",
     "metadata": {},
     "outputs": [
      {
       "metadata": {},
       "output_type": "pyout",
       "prompt_number": 93,
       "text": [
        "10"
       ]
      }
     ],
     "prompt_number": 93
    },
    {
     "cell_type": "code",
     "collapsed": false,
     "input": [
      "tab.columns()"
     ],
     "language": "python",
     "metadata": {},
     "outputs": [
      {
       "metadata": {},
       "output_type": "pyout",
       "prompt_number": 94,
       "text": [
        "[ol_w_id,\n",
        " ol_d_id,\n",
        " ol_o_id,\n",
        " ol_number,\n",
        " ol_i_id,\n",
        " ol_delivery_d,\n",
        " ol_amount,\n",
        " ol_supply_w_id,\n",
        " ol_quantity,\n",
        " ol_dist_info]"
       ]
      }
     ],
     "prompt_number": 94
    },
    {
     "cell_type": "markdown",
     "metadata": {},
     "source": [
      "Columns are special objects that can be easily and interactively inspected in iPython Notebooks, the default information per column are the `min` and `max` value, the most frequent and least frequent value and the total number of distinct values. Based on these measrues we provide information about the column.\n",
      "\n",
      "$uniqueness = \\frac{distinct}{rows}$\n",
      "\n",
      "$constancy = \\frac{count_mf}{rows}$"
     ]
    },
    {
     "cell_type": "code",
     "collapsed": false,
     "input": [
      "tab['ol_w_id']"
     ],
     "language": "python",
     "metadata": {},
     "outputs": [
      {
       "html": [
        "<table><tr><th>Name</th><th>Value</th></tr><tr><td>Min</td><td>1</td></tr><tr><td>Max</td><td>100</td></tr><tr><td>#Distinct Values</td><td>100</td></tr><tr><td>Most Frequent</td><td>31 (301213)</td></tr><tr><td>Least Frequent</td><td>61 (298994)</td></tr><tr><td>Top 10 MF</td><td>31,60,67,23,84,40,68,50,20,13</td></tr><tr><td>Top 10 LF</td><td>61, 88, 14, 22, 92, 54, 57, 45, 12, 36</td></tr><tr><td>Uniqueness</td><td>3.333665033e-06</td></tr><tr><td>Constancy</td><td>0.0100414324559</td></tr></table><p>Rows: 9 / Columns: 2</p>"
       ],
       "metadata": {},
       "output_type": "pyout",
       "prompt_number": 105,
       "text": [
        "ol_w_id"
       ]
      }
     ],
     "prompt_number": 105
    },
    {
     "cell_type": "markdown",
     "metadata": {},
     "source": [
      "Its possible to access the column either using subscript notation or directly as an attribute of the object"
     ]
    },
    {
     "cell_type": "code",
     "collapsed": false,
     "input": [
      "tab.ol_w_id"
     ],
     "language": "python",
     "metadata": {},
     "outputs": [
      {
       "html": [
        "<table><tr><th>Name</th><th>Value</th></tr><tr><td>Min</td><td>1</td></tr><tr><td>Max</td><td>100</td></tr><tr><td>#Distinct Values</td><td>100</td></tr><tr><td>Most Frequent</td><td>31 (301213)</td></tr><tr><td>Least Frequent</td><td>61 (298994)</td></tr><tr><td>Top 10 MF</td><td>31,60,67,23,84,40,68,50,20,13</td></tr><tr><td>Top 10 LF</td><td>61, 88, 14, 22, 92, 54, 57, 45, 12, 36</td></tr><tr><td>Uniqueness</td><td>3.333665033e-06</td></tr><tr><td>Constancy</td><td>0.0100414324559</td></tr></table><p>Rows: 9 / Columns: 2</p>"
       ],
       "metadata": {},
       "output_type": "pyout",
       "prompt_number": 96,
       "text": [
        "ol_w_id"
       ]
      }
     ],
     "prompt_number": 96
    },
    {
     "cell_type": "markdown",
     "metadata": {},
     "source": [
      "## Distinct Values and Distinct Value Distribution\n",
      "\n",
      "One important feature ist to look at the distinct values and their distribution"
     ]
    },
    {
     "cell_type": "code",
     "collapsed": false,
     "input": [
      "tab.ol_w_id.dcount()"
     ],
     "language": "python",
     "metadata": {},
     "outputs": [
      {
       "metadata": {},
       "output_type": "pyout",
       "prompt_number": 97,
       "text": [
        "100"
       ]
      }
     ],
     "prompt_number": 97
    },
    {
     "cell_type": "code",
     "collapsed": false,
     "input": [
      "dist = tab.ol_w_id.distribution(limit=1000)"
     ],
     "language": "python",
     "metadata": {},
     "outputs": [],
     "prompt_number": 98
    },
    {
     "cell_type": "code",
     "collapsed": false,
     "input": [
      "%matplotlib inline\n",
      "dist.fraction.hist()"
     ],
     "language": "python",
     "metadata": {},
     "outputs": [
      {
       "metadata": {},
       "output_type": "pyout",
       "prompt_number": 99,
       "text": [
        "<matplotlib.axes.AxesSubplot at 0x112e428d0>"
       ]
      },
      {
       "metadata": {},
       "output_type": "display_data",
       "png": "[encoded data removed]",
       "text": [
        "<matplotlib.figure.Figure at 0x112e42750>"
       ]
      }
     ],
     "prompt_number": 99
    },
    {
     "cell_type": "markdown",
     "metadata": {},
     "source": [
      "In addition to performing such analysis on a column level, we can have a look at the distributions as well from a higher level. "
     ]
    },
    {
     "cell_type": "code",
     "collapsed": false,
     "input": [
      "data.dcounts().fraction.hist()"
     ],
     "language": "python",
     "metadata": {},
     "outputs": [
      {
       "output_type": "stream",
       "stream": "stderr",
       "text": [
        "WARNING: Distinct value count for all tables can take a long time...\n"
       ]
      },
      {
       "metadata": {},
       "output_type": "pyout",
       "prompt_number": 100,
       "text": [
        "<matplotlib.axes.AxesSubplot at 0x112e64c10>"
       ]
      },
      {
       "metadata": {},
       "output_type": "display_data",
       "png": "[encoded data removed]",
       "text": [
        "<matplotlib.figure.Figure at 0x112e663d0>"
       ]
      }
     ],
     "prompt_number": 100
    },
    {
     "cell_type": "code",
     "collapsed": false,
     "input": [
      "len(data.dcounts())"
     ],
     "language": "python",
     "metadata": {},
     "outputs": [
      {
       "metadata": {},
       "output_type": "pyout",
       "prompt_number": 102,
       "text": [
        "98"
       ]
      }
     ],
     "prompt_number": 102
    },
    {
     "cell_type": "markdown",
     "metadata": {},
     "source": [
      "# Data Loading\n",
      "\n",
      "The idea is that a directory in HDFS already contains a set of files that all follow the same specification and the user now wants to perform some data profiling. We further assume that the user has access to Hive / Impala to run queries on the data."
     ]
    },
    {
     "cell_type": "code",
     "collapsed": false,
     "input": [],
     "language": "python",
     "metadata": {},
     "outputs": [],
     "prompt_number": 103
    }
   ],
   "metadata": {}
  }
 ]
}