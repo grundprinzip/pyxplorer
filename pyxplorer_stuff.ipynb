{
 "metadata": {
  "name": "",
  "signature": "sha256:d786ff992a8df99c9dcec4807b1fc198dd572507e2a5a7de67833f7f180bdf0c"
 },
 "nbformat": 3,
 "nbformat_minor": 0,
 "worksheets": [
  {
   "cells": [
    {
     "cell_type": "markdown",
     "metadata": {},
     "source": [
      "#Pyxplorer - interactive data set exploration\n",
      "\n",
      "The goal of pyxplorer is to provide a simple tool that allows interactive\n",
      "profiling of datasets that are accessible via a SQL like interface. The only\n",
      "requirement to run data profiling is that you are able to provide a Python\n",
      "DBAPI like interface to your data source and the data source is able to\n",
      "understand simplistic SQL queries.\n",
      "\n",
      "I built this piece of software while trying to get a better understanding of\n",
      "data distribution in a massive several hundred million record large dataset.\n",
      "Depending on the size of the dataset and the query engine the resposne time\n",
      "can ranging from seconds (Impala) to minutes (Hive) or even hourse (MySQL)\n",
      "\n",
      "The typical use case is to use `pyxplorer` interactively from an iPython\n",
      "Notebook or iPython shell to incrementally extract information about your data."
     ]
    },
    {
     "cell_type": "markdown",
     "metadata": {},
     "source": [
      "    $> pip install pyxplorer pympala"
     ]
    },
    {
     "cell_type": "markdown",
     "metadata": {},
     "source": [
      "## Example using Impala\n",
      "\n",
      "Basically `pyexplorer` works with all DBAPI like interfaces, but to show the advantages of running a high-performance data analysis on large amounts of data we will use Impala to store our data."
     ]
    },
    {
     "cell_type": "code",
     "collapsed": false,
     "input": [
      "from impala.dbapi import connect\n",
      "conn = connect(host='diufpc57', port=21050)"
     ],
     "language": "python",
     "metadata": {},
     "outputs": [],
     "prompt_number": 2
    },
    {
     "cell_type": "markdown",
     "metadata": {},
     "source": [
      "## Database Operations"
     ]
    },
    {
     "cell_type": "markdown",
     "metadata": {},
     "source": [
      "Imagine that you are provided with access to a huge Hive/Impala database on\n",
      "your very own Hadoop cluster and you're asked to profile the data to get a\n",
      "better understanding for performing more specific data science later on. \n",
      "Based on this connection, we can now instantiate a new explorer object."
     ]
    },
    {
     "cell_type": "code",
     "collapsed": false,
     "input": [
      "import pyxplorer as pxp\n",
      "data = pxp.Database(\"tpcc3\", conn)\n",
      "data"
     ],
     "language": "python",
     "metadata": {},
     "outputs": [
      {
       "html": [
        "<table><tr><th>Name</th><th>Size</th></tr><tr><td>customerp</td><td>30000000</td></tr><tr><td>districtp</td><td>10000</td></tr><tr><td>historyp</td><td>30000000</td></tr><tr><td>itemp</td><td>100000</td></tr><tr><td>new_orderp</td><td>9000000</td></tr><tr><td>oorderp</td><td>30000000</td></tr><tr><td>order_linep</td><td>299991280</td></tr><tr><td>stockp</td><td>100000000</td></tr><tr><td>warehousep</td><td>1000</td></tr></table><p>Rows: 9 / Columns: 2</p>"
       ],
       "metadata": {},
       "output_type": "pyout",
       "prompt_number": 4,
       "text": [
        "<pyxplorer.manager.Database instance at 0x1033a5bd8>"
       ]
      }
     ],
     "prompt_number": 4
    },
    {
     "cell_type": "markdown",
     "metadata": {},
     "source": [
      "This simple code gives you access to all the tables in this database. Let's further investigate how many tables and columns exist in the database."
     ]
    },
    {
     "cell_type": "code",
     "collapsed": false,
     "input": [
      "len(data)"
     ],
     "language": "python",
     "metadata": {},
     "outputs": [
      {
       "metadata": {},
       "output_type": "pyout",
       "prompt_number": 12,
       "text": [
        "9"
       ]
      }
     ],
     "prompt_number": 12
    },
    {
     "cell_type": "markdown",
     "metadata": {},
     "source": [
      "The above is the idiomatic python way, but sometimes, it might not be as easy to gasp what is meant, which gives you the chance to use as well"
     ]
    },
    {
     "cell_type": "code",
     "collapsed": false,
     "input": [
      "data.num_tables()"
     ],
     "language": "python",
     "metadata": {},
     "outputs": [
      {
       "metadata": {},
       "output_type": "pyout",
       "prompt_number": 13,
       "text": [
        "9"
       ]
      }
     ],
     "prompt_number": 13
    },
    {
     "cell_type": "markdown",
     "metadata": {},
     "source": [
      "Get the total number of columns:"
     ]
    },
    {
     "cell_type": "code",
     "collapsed": false,
     "input": [
      "sum([len(x.columns()) for x in data.tables()])"
     ],
     "language": "python",
     "metadata": {},
     "outputs": [
      {
       "metadata": {},
       "output_type": "pyout",
       "prompt_number": 7,
       "text": [
        "92"
       ]
      }
     ],
     "prompt_number": 7
    },
    {
     "cell_type": "markdown",
     "metadata": {},
     "source": [
      "Or we can directly use the number of columns method on the database object"
     ]
    },
    {
     "cell_type": "code",
     "collapsed": false,
     "input": [
      "data.num_columns()"
     ],
     "language": "python",
     "metadata": {},
     "outputs": [
      {
       "metadata": {},
       "output_type": "pyout",
       "prompt_number": 9,
       "text": [
        "92"
       ]
      }
     ],
     "prompt_number": 9
    },
    {
     "cell_type": "markdown",
     "metadata": {},
     "source": [
      "It seems like we have a better understanding of the dataset, but how many tuples are we talking about?"
     ]
    },
    {
     "cell_type": "code",
     "collapsed": false,
     "input": [
      "data.num_tuples()"
     ],
     "language": "python",
     "metadata": {},
     "outputs": [
      {
       "metadata": {},
       "output_type": "pyout",
       "prompt_number": 15,
       "text": [
        "499102280"
       ]
      }
     ],
     "prompt_number": 15
    },
    {
     "cell_type": "markdown",
     "metadata": {},
     "source": [
      "## Singel Table Operation"
     ]
    },
    {
     "cell_type": "markdown",
     "metadata": {},
     "source": [
      "Using the above operations, we can perform simple operations on all tables, but let's have a further look at single table operations to extract more information from instances.\n",
      "\n",
      "In this example, we want to investigate the `order_line` table."
     ]
    },
    {
     "cell_type": "code",
     "collapsed": false,
     "input": [
      "tab = data['order_linep']\n",
      "tab"
     ],
     "language": "python",
     "metadata": {},
     "outputs": [
      {
       "metadata": {},
       "output_type": "pyout",
       "prompt_number": 14,
       "text": [
        "<Table: \"tpcc3.order_linep\">"
       ]
      }
     ],
     "prompt_number": 14
    },
    {
     "cell_type": "markdown",
     "metadata": {},
     "source": [
      "Let's start by doing some basic inspection of the table, like extracting the number of rows and the number of columns"
     ]
    },
    {
     "cell_type": "code",
     "collapsed": false,
     "input": [
      "tab.size()"
     ],
     "language": "python",
     "metadata": {},
     "outputs": [
      {
       "metadata": {},
       "output_type": "pyout",
       "prompt_number": 17,
       "text": [
        "299991280"
       ]
      }
     ],
     "prompt_number": 17
    },
    {
     "cell_type": "code",
     "collapsed": false,
     "input": [
      "len(tab.columns())"
     ],
     "language": "python",
     "metadata": {},
     "outputs": [
      {
       "metadata": {},
       "output_type": "pyout",
       "prompt_number": 18,
       "text": [
        "10"
       ]
      }
     ],
     "prompt_number": 18
    },
    {
     "cell_type": "code",
     "collapsed": false,
     "input": [
      "tab.columns()"
     ],
     "language": "python",
     "metadata": {},
     "outputs": [
      {
       "metadata": {},
       "output_type": "pyout",
       "prompt_number": 19,
       "text": [
        "[ol_w_id,\n",
        " ol_d_id,\n",
        " ol_o_id,\n",
        " ol_number,\n",
        " ol_i_id,\n",
        " ol_delivery_d,\n",
        " ol_amount,\n",
        " ol_supply_w_id,\n",
        " ol_quantity,\n",
        " ol_dist_info]"
       ]
      }
     ],
     "prompt_number": 19
    },
    {
     "cell_type": "markdown",
     "metadata": {},
     "source": [
      "Columns are special objects that can be easily and interactively inspected in iPython Notebooks, the default information per column are the `min` and `max` value, the most frequent and least frequent value and the total number of distinct values. Based on these measrues we provide information about the column.\n",
      "\n",
      "$uniqueness = \\frac{distinct}{rows}$\n",
      "\n",
      "$constancy = \\frac{count_{mf}}{rows}$"
     ]
    },
    {
     "cell_type": "code",
     "collapsed": false,
     "input": [
      "tab['ol_w_id']"
     ],
     "language": "python",
     "metadata": {},
     "outputs": [
      {
       "html": [
        "<table><tr><th>Name</th><th>Value</th></tr><tr><td>Min</td><td>1</td></tr><tr><td>Max</td><td>1000</td></tr><tr><td>#Distinct Values</td><td>1000</td></tr><tr><td>Most Frequent</td><td>109 (301593)</td></tr><tr><td>Least Frequent</td><td>212 (298395)</td></tr><tr><td>Top 10 MF</td><td>109,676,117,460,19,877,165,764,340,689</td></tr><tr><td>Top 10 LF</td><td>212, 405, 52, 284, 304, 769, 727, 665, 90, 163</td></tr><tr><td>Uniqueness</td><td>3.33343022504e-06</td></tr><tr><td>Constancy</td><td>0.00100533922186</td></tr></table><p>Rows: 9 / Columns: 2</p>"
       ],
       "metadata": {},
       "output_type": "pyout",
       "prompt_number": 20,
       "text": [
        "ol_w_id"
       ]
      }
     ],
     "prompt_number": 20
    },
    {
     "cell_type": "markdown",
     "metadata": {},
     "source": [
      "Its possible to access the column either using subscript notation or directly as an attribute of the object"
     ]
    },
    {
     "cell_type": "code",
     "collapsed": false,
     "input": [
      "tab.ol_w_id"
     ],
     "language": "python",
     "metadata": {},
     "outputs": [
      {
       "html": [
        "<table><tr><th>Name</th><th>Value</th></tr><tr><td>Min</td><td>1</td></tr><tr><td>Max</td><td>1000</td></tr><tr><td>#Distinct Values</td><td>1000</td></tr><tr><td>Most Frequent</td><td>109 (301593)</td></tr><tr><td>Least Frequent</td><td>212 (298395)</td></tr><tr><td>Top 10 MF</td><td>109,676,117,460,19,877,165,764,340,689</td></tr><tr><td>Top 10 LF</td><td>212, 405, 52, 284, 304, 769, 727, 665, 90, 163</td></tr><tr><td>Uniqueness</td><td>3.33343022504e-06</td></tr><tr><td>Constancy</td><td>0.00100533922186</td></tr></table><p>Rows: 9 / Columns: 2</p>"
       ],
       "metadata": {},
       "output_type": "pyout",
       "prompt_number": 21,
       "text": [
        "ol_w_id"
       ]
      }
     ],
     "prompt_number": 21
    },
    {
     "cell_type": "markdown",
     "metadata": {},
     "source": [
      "Based on this information we can further deduct what role this column might have in the overall schema. For example, based on the uniqueness we can say that the column is not suitable to uniquely identify every row. In additiona, based on the constancy of the most frequent value and the spread between the most and least frequent value we can deduct that the data is almost uniformly distributed."
     ]
    },
    {
     "cell_type": "markdown",
     "metadata": {},
     "source": [
      "## Distinct Values and Distinct Value Distribution\n",
      "\n",
      "One important feature ist to look at the distinct values and their distribution"
     ]
    },
    {
     "cell_type": "code",
     "collapsed": false,
     "input": [
      "tab.ol_w_id.dcount()"
     ],
     "language": "python",
     "metadata": {},
     "outputs": [
      {
       "metadata": {},
       "output_type": "pyout",
       "prompt_number": 22,
       "text": [
        "1000"
       ]
      }
     ],
     "prompt_number": 22
    },
    {
     "cell_type": "code",
     "collapsed": false,
     "input": [
      "dist = tab.ol_w_id.distribution(limit=10000)"
     ],
     "language": "python",
     "metadata": {},
     "outputs": [],
     "prompt_number": 24
    },
    {
     "cell_type": "code",
     "collapsed": false,
     "input": [
      "%matplotlib inline\n",
      "dist.fraction.hist()"
     ],
     "language": "python",
     "metadata": {},
     "outputs": [
      {
       "metadata": {},
       "output_type": "pyout",
       "prompt_number": 25,
       "text": [
        "<matplotlib.axes.AxesSubplot at 0x10c550ad0>"
       ]
      },
      {
       "metadata": {},
       "output_type": "display_data",
       "png": "[encoded data removed]",
       "text": [
        "<matplotlib.figure.Figure at 0x10c5506d0>"
       ]
      }
     ],
     "prompt_number": 25
    },
    {
     "cell_type": "markdown",
     "metadata": {},
     "source": [
      "The above example validates our assumption of unifrom distribution as the histograms spreads basically from $0.0009$ to $0.001006$.\n",
      "\n",
      "In addition to performing such analysis on a column level, we can have a look at the distributions as well from a higher level. "
     ]
    },
    {
     "cell_type": "code",
     "collapsed": false,
     "input": [
      "data.dcounts().fraction.hist()"
     ],
     "language": "python",
     "metadata": {},
     "outputs": [
      {
       "metadata": {},
       "output_type": "pyout",
       "prompt_number": 7,
       "text": [
        "<matplotlib.axes.AxesSubplot at 0x109958510>"
       ]
      },
      {
       "metadata": {},
       "output_type": "display_data",
       "png": "[encoded data removed]",
       "text": [
        "<matplotlib.figure.Figure at 0x10995a0d0>"
       ]
      }
     ],
     "prompt_number": 7
    },
    {
     "cell_type": "code",
     "collapsed": false,
     "input": [
      "len(data.dcounts())"
     ],
     "language": "python",
     "metadata": {},
     "outputs": [
      {
       "metadata": {},
       "output_type": "pyout",
       "prompt_number": 102,
       "text": [
        "98"
       ]
      }
     ],
     "prompt_number": 102
    },
    {
     "cell_type": "code",
     "collapsed": false,
     "input": [
      "data.dcounts().head(10)"
     ],
     "language": "python",
     "metadata": {},
     "outputs": [
      {
       "html": [
        "<div style=\"max-height:1000px;max-width:1500px;overflow:auto;\">\n",
        "<table border=\"1\" class=\"dataframe\">\n",
        "  <thead>\n",
        "    <tr style=\"text-align: right;\">\n",
        "      <th></th>\n",
        "      <th>table</th>\n",
        "      <th>column</th>\n",
        "      <th>distinct</th>\n",
        "      <th>size</th>\n",
        "      <th>fraction</th>\n",
        "    </tr>\n",
        "  </thead>\n",
        "  <tbody>\n",
        "    <tr>\n",
        "      <th>0</th>\n",
        "      <td> customerp</td>\n",
        "      <td>        c_w_id</td>\n",
        "      <td>     1000</td>\n",
        "      <td> 30000000</td>\n",
        "      <td> 3.333333e-05</td>\n",
        "    </tr>\n",
        "    <tr>\n",
        "      <th>1</th>\n",
        "      <td> customerp</td>\n",
        "      <td>        c_d_id</td>\n",
        "      <td>       10</td>\n",
        "      <td> 30000000</td>\n",
        "      <td> 3.333333e-07</td>\n",
        "    </tr>\n",
        "    <tr>\n",
        "      <th>2</th>\n",
        "      <td> customerp</td>\n",
        "      <td>          c_id</td>\n",
        "      <td>     3000</td>\n",
        "      <td> 30000000</td>\n",
        "      <td> 1.000000e-04</td>\n",
        "    </tr>\n",
        "    <tr>\n",
        "      <th>3</th>\n",
        "      <td> customerp</td>\n",
        "      <td>    c_discount</td>\n",
        "      <td>     5000</td>\n",
        "      <td> 30000000</td>\n",
        "      <td> 1.666667e-04</td>\n",
        "    </tr>\n",
        "    <tr>\n",
        "      <th>4</th>\n",
        "      <td> customerp</td>\n",
        "      <td>      c_credit</td>\n",
        "      <td>        2</td>\n",
        "      <td> 30000000</td>\n",
        "      <td> 6.666667e-08</td>\n",
        "    </tr>\n",
        "    <tr>\n",
        "      <th>5</th>\n",
        "      <td> customerp</td>\n",
        "      <td>        c_last</td>\n",
        "      <td>     1000</td>\n",
        "      <td> 30000000</td>\n",
        "      <td> 3.333333e-05</td>\n",
        "    </tr>\n",
        "    <tr>\n",
        "      <th>6</th>\n",
        "      <td> customerp</td>\n",
        "      <td>       c_first</td>\n",
        "      <td> 29999284</td>\n",
        "      <td> 30000000</td>\n",
        "      <td> 9.999761e-01</td>\n",
        "    </tr>\n",
        "    <tr>\n",
        "      <th>7</th>\n",
        "      <td> customerp</td>\n",
        "      <td>  c_credit_lim</td>\n",
        "      <td>        1</td>\n",
        "      <td> 30000000</td>\n",
        "      <td> 3.333333e-08</td>\n",
        "    </tr>\n",
        "    <tr>\n",
        "      <th>8</th>\n",
        "      <td> customerp</td>\n",
        "      <td>     c_balance</td>\n",
        "      <td>        1</td>\n",
        "      <td> 30000000</td>\n",
        "      <td> 3.333333e-08</td>\n",
        "    </tr>\n",
        "    <tr>\n",
        "      <th>9</th>\n",
        "      <td> customerp</td>\n",
        "      <td> c_ytd_payment</td>\n",
        "      <td>        1</td>\n",
        "      <td> 30000000</td>\n",
        "      <td> 3.333333e-08</td>\n",
        "    </tr>\n",
        "  </tbody>\n",
        "</table>\n",
        "</div>"
       ],
       "metadata": {},
       "output_type": "pyout",
       "prompt_number": 9,
       "text": [
        "       table         column  distinct      size      fraction\n",
        "0  customerp         c_w_id      1000  30000000  3.333333e-05\n",
        "1  customerp         c_d_id        10  30000000  3.333333e-07\n",
        "2  customerp           c_id      3000  30000000  1.000000e-04\n",
        "3  customerp     c_discount      5000  30000000  1.666667e-04\n",
        "4  customerp       c_credit         2  30000000  6.666667e-08\n",
        "5  customerp         c_last      1000  30000000  3.333333e-05\n",
        "6  customerp        c_first  29999284  30000000  9.999761e-01\n",
        "7  customerp   c_credit_lim         1  30000000  3.333333e-08\n",
        "8  customerp      c_balance         1  30000000  3.333333e-08\n",
        "9  customerp  c_ytd_payment         1  30000000  3.333333e-08"
       ]
      }
     ],
     "prompt_number": 9
    },
    {
     "cell_type": "markdown",
     "metadata": {},
     "source": [
      "Herew, we see that `dcounts` refers to a Pandas data frame object with 96 rows."
     ]
    },
    {
     "cell_type": "markdown",
     "metadata": {},
     "source": [
      "# Data Loading (Beta)\n",
      "\n",
      "While in most cases the data to profile is already available as a Hive or Impala or even MySQL table, there might exist the case that we simply have a directory full of CSV files following the same format and want to perform the same analysis. \n",
      "\n",
      "To facilitate this process, `pyxplorer` provides a simple interface to generate an external table based on a sample from the CSV files in a given directory.\n",
      "\n",
      "The idea is that a directory in HDFS already contains a set of files that all follow the same specification and the user now wants to perform some data profiling. We further assume that the user has access to Hive / Impala to run queries on the data."
     ]
    },
    {
     "cell_type": "code",
     "collapsed": false,
     "input": [
      "from pyxplorer.loader import Loader\n",
      "loader = Loader(\"/user/martin/test1\", name_node=\"diufpc56\", hive_server=\"diufpc301\")"
     ],
     "language": "python",
     "metadata": {},
     "outputs": [],
     "prompt_number": 27
    },
    {
     "cell_type": "markdown",
     "metadata": {},
     "source": [
      "It will check the first file it finds in the directory, extract the data of the first few hundred lines. It will then try to guess the correct separator and build an external table. The rest of the operations follows the normal explorative schedule described before."
     ]
    },
    {
     "cell_type": "code",
     "collapsed": false,
     "input": [
      "loader.load()"
     ],
     "language": "python",
     "metadata": {},
     "outputs": [
      {
       "metadata": {},
       "output_type": "pyout",
       "prompt_number": 28,
       "text": [
        "('default', 'pyxplorer_data')"
       ]
      }
     ],
     "prompt_number": 28
    },
    {
     "cell_type": "code",
     "collapsed": false,
     "input": [
      "pyxdb = m.Database(\"default\", conn)\n",
      "pyxdb"
     ],
     "language": "python",
     "metadata": {},
     "outputs": [
      {
       "html": [
        "<table><tr><th>Name</th><th>Size</th></tr><tr><td>pyxplorer_data</td><td>7</td></tr></table><p>Rows: 1 / Columns: 2</p>"
       ],
       "metadata": {},
       "output_type": "pyout",
       "prompt_number": 33,
       "text": [
        "<pyxplorer.manager.Database instance at 0x10cf79d88>"
       ]
      }
     ],
     "prompt_number": 33
    },
    {
     "cell_type": "code",
     "collapsed": false,
     "input": [
      "tab = pyxdb[\"pyxplorer_data\"]\n",
      "tab"
     ],
     "language": "python",
     "metadata": {},
     "outputs": [
      {
       "metadata": {},
       "output_type": "pyout",
       "prompt_number": 37,
       "text": [
        "<Table: \"default.pyxplorer_data\">"
       ]
      }
     ],
     "prompt_number": 37
    },
    {
     "cell_type": "code",
     "collapsed": false,
     "input": [
      "tab.columns()"
     ],
     "language": "python",
     "metadata": {},
     "outputs": [
      {
       "metadata": {},
       "output_type": "pyout",
       "prompt_number": 38,
       "text": [
        "[col_0, col_1, col_2, col_3, col_4, col_5, col_6]"
       ]
      }
     ],
     "prompt_number": 38
    },
    {
     "cell_type": "code",
     "collapsed": false,
     "input": [
      "tab.col_0"
     ],
     "language": "python",
     "metadata": {},
     "outputs": [
      {
       "html": [
        "<table><tr><th>Name</th><th>Value</th></tr><tr><td>Min</td><td>100</td></tr><tr><td>Max</td><td>distance</td></tr><tr><td>#Distinct Values</td><td>7</td></tr><tr><td>Most Frequent</td><td>distance (1)</td></tr><tr><td>Least Frequent</td><td>distance (1)</td></tr><tr><td>Top 10 MF</td><td>100,129,148,distance,192,113,168</td></tr><tr><td>Top 10 LF</td><td>100, 129, 148, distance, 192, 113, 168</td></tr><tr><td>Uniqueness</td><td>1.0</td></tr><tr><td>Constancy</td><td>0.142857142857</td></tr></table><p>Rows: 9 / Columns: 2</p>"
       ],
       "metadata": {},
       "output_type": "pyout",
       "prompt_number": 39,
       "text": [
        "col_0"
       ]
      }
     ],
     "prompt_number": 39
    }
   ],
   "metadata": {}
  }
 ]
}